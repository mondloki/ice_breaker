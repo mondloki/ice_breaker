{
 "cells": [
  {
   "cell_type": "code",
   "execution_count": 2,
   "metadata": {},
   "outputs": [],
   "source": [
    "from langchain_ollama import ChatOllama\n",
    "\n",
    "llm = ChatOllama(model=\"llama3.2\")\n",
    "output = llm.invoke(\"what is docker ?\")"
   ]
  },
  {
   "cell_type": "code",
   "execution_count": 5,
   "metadata": {},
   "outputs": [
    {
     "name": "stdout",
     "output_type": "stream",
     "text": [
      "Based on the provided data, here's a summary and some interesting facts about the person:\n",
      "\n",
      "**Summary:**\n",
      "This individual is a highly accomplished professional with a strong educational background in Computer Science. They have held various prestigious positions, including Captain in the Israel Defense Forces and Independent Udemy Instructor, while maintaining a high level of expertise in their field.\n",
      "\n",
      "**Interesting Facts:**\n",
      "\n",
      "1. **Two Best-Selling Courses**: The person has produced two best-selling courses on the Udemy platform, with a total of 9k+ enrolled students, 800+ ratings, and a solid 4.7 rating.\n",
      "2. **Military Service**: They served as Captain in the Israel Defense Forces from 2010 to 2014, showcasing their dedication to service and leadership.\n",
      "3. **Highly Rated Educator**: With an impressive 4.7-star rating on Udemy, this individual is recognized for their exceptional teaching skills and ability to engage students.\n",
      "4. **Academic Achievement**: They hold a Bachelor's degree in Computer Science from Technion - Israel Institute of Technology (2015-2019), demonstrating their academic excellence in the field.\n",
      "\n",
      "Please note that I've extracted information based on the provided data, but some details might be missing or not explicitly stated. If you'd like me to add or clarify anything, feel free to let me know!\n"
     ]
    }
   ],
   "source": [
    "from pprint import pprint\n",
    "\n",
    "print(\"Based on the provided data, here's a summary and some interesting facts about the person:\\n\\n**Summary:**\\nThis individual is a highly accomplished professional with a strong educational background in Computer Science. They have held various prestigious positions, including Captain in the Israel Defense Forces and Independent Udemy Instructor, while maintaining a high level of expertise in their field.\\n\\n**Interesting Facts:**\\n\\n1. **Two Best-Selling Courses**: The person has produced two best-selling courses on the Udemy platform, with a total of 9k+ enrolled students, 800+ ratings, and a solid 4.7 rating.\\n2. **Military Service**: They served as Captain in the Israel Defense Forces from 2010 to 2014, showcasing their dedication to service and leadership.\\n3. **Highly Rated Educator**: With an impressive 4.7-star rating on Udemy, this individual is recognized for their exceptional teaching skills and ability to engage students.\\n4. **Academic Achievement**: They hold a Bachelor's degree in Computer Science from Technion - Israel Institute of Technology (2015-2019), demonstrating their academic excellence in the field.\\n\\nPlease note that I've extracted information based on the provided data, but some details might be missing or not explicitly stated. If you'd like me to add or clarify anything, feel free to let me know!\")"
   ]
  },
  {
   "cell_type": "code",
   "execution_count": null,
   "metadata": {},
   "outputs": [],
   "source": []
  }
 ],
 "metadata": {
  "kernelspec": {
   "display_name": "py311",
   "language": "python",
   "name": "python3"
  },
  "language_info": {
   "codemirror_mode": {
    "name": "ipython",
    "version": 3
   },
   "file_extension": ".py",
   "mimetype": "text/x-python",
   "name": "python",
   "nbconvert_exporter": "python",
   "pygments_lexer": "ipython3",
   "version": "3.11.11"
  }
 },
 "nbformat": 4,
 "nbformat_minor": 2
}
