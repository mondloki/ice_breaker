{
 "cells": [
  {
   "cell_type": "code",
   "execution_count": 1,
   "metadata": {},
   "outputs": [],
   "source": [
    "import os\n",
    "curr_dir = os.getcwd()\n",
    "parent_dir = os.path.dirname(curr_dir)\n",
    "os.chdir(parent_dir)"
   ]
  },
  {
   "cell_type": "code",
   "execution_count": 2,
   "metadata": {},
   "outputs": [],
   "source": [
    "\n",
    "\n",
    "from langchain_ollama import ChatOllama\n",
    "\n",
    "llm = ChatOllama(model=\"deepseek-r1:7b\")\n",
    "output = llm.invoke(\"what is docker ?\")"
   ]
  },
  {
   "cell_type": "code",
   "execution_count": 1,
   "metadata": {},
   "outputs": [],
   "source": [
    "from langchain import hub"
   ]
  },
  {
   "cell_type": "code",
   "execution_count": 2,
   "metadata": {},
   "outputs": [
    {
     "data": {
      "text/plain": [
       "['ice_breaker']"
      ]
     },
     "execution_count": 2,
     "metadata": {},
     "output_type": "execute_result"
    }
   ],
   "source": [
    "os.listdir()"
   ]
  },
  {
   "cell_type": "code",
   "execution_count": 4,
   "metadata": {},
   "outputs": [
    {
     "data": {
      "text/plain": [
       "<module 'tools.agent_tools' from 'c:\\\\Users\\\\LokeshsivakumarMondr\\\\Box\\\\Learning\\\\Langchain\\\\Langchain_udemy\\\\ice_breaker\\\\ice_breaker\\\\tools\\\\agent_tools.py'>"
      ]
     },
     "execution_count": 4,
     "metadata": {},
     "output_type": "execute_result"
    }
   ],
   "source": [
    "from importlib import reload\n",
    "import tools.agent_tools\n",
    "reload(tools.agent_tools)"
   ]
  },
  {
   "cell_type": "code",
   "execution_count": 2,
   "metadata": {},
   "outputs": [
    {
     "name": "stdout",
     "output_type": "stream",
     "text": [
      "['c:\\\\Users\\\\edenmarco\\\\Desktop\\\\ice_breaker', 'c:\\\\Users\\\\LokeshsivakumarMondr\\\\miniconda3\\\\envs\\\\py311\\\\python311.zip', 'c:\\\\Users\\\\LokeshsivakumarMondr\\\\miniconda3\\\\envs\\\\py311\\\\DLLs', 'c:\\\\Users\\\\LokeshsivakumarMondr\\\\miniconda3\\\\envs\\\\py311\\\\Lib', 'c:\\\\Users\\\\LokeshsivakumarMondr\\\\miniconda3\\\\envs\\\\py311', '', 'c:\\\\Users\\\\LokeshsivakumarMondr\\\\miniconda3\\\\envs\\\\py311\\\\Lib\\\\site-packages', 'c:\\\\Users\\\\LokeshsivakumarMondr\\\\miniconda3\\\\envs\\\\py311\\\\Lib\\\\site-packages\\\\win32', 'c:\\\\Users\\\\LokeshsivakumarMondr\\\\miniconda3\\\\envs\\\\py311\\\\Lib\\\\site-packages\\\\win32\\\\lib', 'c:\\\\Users\\\\LokeshsivakumarMondr\\\\miniconda3\\\\envs\\\\py311\\\\Lib\\\\site-packages\\\\Pythonwin']\n"
     ]
    }
   ],
   "source": [
    "import sys\n",
    "print(sys.path)"
   ]
  },
  {
   "cell_type": "code",
   "execution_count": 5,
   "metadata": {},
   "outputs": [],
   "source": [
    "import sys\n",
    "import os\n",
    "\n",
    "# Construct the relative path\n",
    "current_dir = os.path.curdir  # Get the directory of the current script\n",
    "tools_dir = os.path.join(current_dir, \"tools\")  # Relative path to 'tools'\n",
    "\n",
    "# Add the 'tools' directory to sys.path\n",
    "sys.path.append(tools_dir)\n",
    "\n",
    "# sys.path.append(\"..\")"
   ]
  },
  {
   "cell_type": "code",
   "execution_count": 6,
   "metadata": {},
   "outputs": [
    {
     "ename": "ImportError",
     "evalue": "cannot import name 'get_profile_url_tavily' from 'tools.agent_tools' (c:\\Users\\LokeshsivakumarMondr\\Box\\Learning\\Langchain\\Langchain_udemy\\ice_breaker\\ice_breaker\\tools\\agent_tools.py)",
     "output_type": "error",
     "traceback": [
      "\u001b[1;31m---------------------------------------------------------------------------\u001b[0m",
      "\u001b[1;31mImportError\u001b[0m                               Traceback (most recent call last)",
      "Cell \u001b[1;32mIn[6], line 1\u001b[0m\n\u001b[1;32m----> 1\u001b[0m \u001b[38;5;28;01mfrom\u001b[39;00m\u001b[38;5;250m \u001b[39m\u001b[38;5;21;01mtools\u001b[39;00m\u001b[38;5;21;01m.\u001b[39;00m\u001b[38;5;21;01magent_tools\u001b[39;00m\u001b[38;5;250m \u001b[39m\u001b[38;5;28;01mimport\u001b[39;00m get_profile_url_tavily\n",
      "\u001b[1;31mImportError\u001b[0m: cannot import name 'get_profile_url_tavily' from 'tools.agent_tools' (c:\\Users\\LokeshsivakumarMondr\\Box\\Learning\\Langchain\\Langchain_udemy\\ice_breaker\\ice_breaker\\tools\\agent_tools.py)"
     ]
    }
   ],
   "source": [
    "from tools.agent_tools import get_profile_url_tavily"
   ]
  },
  {
   "cell_type": "code",
   "execution_count": null,
   "metadata": {},
   "outputs": [],
   "source": []
  }
 ],
 "metadata": {
  "kernelspec": {
   "display_name": "py311",
   "language": "python",
   "name": "python3"
  },
  "language_info": {
   "codemirror_mode": {
    "name": "ipython",
    "version": 3
   },
   "file_extension": ".py",
   "mimetype": "text/x-python",
   "name": "python",
   "nbconvert_exporter": "python",
   "pygments_lexer": "ipython3",
   "version": "3.11.11"
  }
 },
 "nbformat": 4,
 "nbformat_minor": 2
}
